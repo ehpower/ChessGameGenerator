{
  "nbformat": 4,
  "nbformat_minor": 0,
  "metadata": {
    "colab": {
      "provenance": [],
      "authorship_tag": "ABX9TyMPn51tzCfvwb93imvDfIIL",
      "include_colab_link": true
    },
    "kernelspec": {
      "name": "python3",
      "display_name": "Python 3"
    },
    "language_info": {
      "name": "python"
    }
  },
  "cells": [
    {
      "cell_type": "markdown",
      "metadata": {
        "id": "view-in-github",
        "colab_type": "text"
      },
      "source": [
        "<a href=\"https://colab.research.google.com/github/ehpower/ChessGameGenerator/blob/main/Chess.ipynb\" target=\"_parent\"><img src=\"https://colab.research.google.com/assets/colab-badge.svg\" alt=\"Open In Colab\"/></a>"
      ]
    },
    {
      "cell_type": "code",
      "execution_count": null,
      "metadata": {
        "id": "icGJka6beeap"
      },
      "outputs": [],
      "source": [
        "import pandas as pd\n",
        "import numpy as np\n",
        "import random\n"
      ]
    },
    {
      "cell_type": "code",
      "source": [
        "Dimid= ['Cuts','Chobo','Claudio','NacNac','Javas','Enri']\n",
        "Pakin= ['Juan','Braulio','Pablo','Paco','Manu','Marcos']\n"
      ],
      "metadata": {
        "id": "pj2DDpogerxt"
      },
      "execution_count": null,
      "outputs": []
    },
    {
      "cell_type": "code",
      "source": [
        "# @title Función Asignación Partidos\n",
        "def GameGenerator2(player1,player2,gamesperround, roundperday):\n",
        "  Sat_games={}\n",
        "  Sun_games={}\n",
        "  dimi=player1.copy()\n",
        "  paki=player2.copy()\n",
        "  possible_games = []\n",
        "  normal_games = []\n",
        "  Nacho_games=[]\n",
        "  for i in range(roundperday):\n",
        "    Sat_games[i+1]=[]\n",
        "    Sun_games[i+1]=[]\n",
        "\n",
        "  #Mezclamos aleatoriamente el orden de equipos\n",
        "  random.shuffle(dimi)\n",
        "  random.shuffle(paki)\n",
        "\n",
        "  df = pd.DataFrame(data=dimi, columns=['T1'])\n",
        "  df2 = pd.DataFrame(data=paki, columns=['T2'])\n",
        "  df['join'] = 1\n",
        "  df2['join'] = 1\n",
        "\n",
        "  df_output = pd.merge(df,df2, on='join')\n",
        "\n",
        "\n",
        "  for i in range(len(df_output['join'])):\n",
        "    possible_games.append(df_output.loc[i]['T1'] + \" vs \" +df_output.loc[i]['T2'] )\n",
        "\n",
        "\n",
        "  for i in range(len(possible_games)):\n",
        "    if 'NacNac' in possible_games[i]:\n",
        "       Nacho_games.append(possible_games[i])\n",
        "    else:\n",
        "      normal_games.append(possible_games[i])\n",
        "\n",
        "\n",
        "  for i in range(len(Sat_games)):\n",
        "    while len(Sat_games[i+1]) < gamesperround and normal_games:\n",
        "      random.shuffle(normal_games)\n",
        "      game = normal_games.pop()\n",
        "      if all(game.split(' vs ')[0] != Sat_games[i + 1][j].split(' vs ')[0] and game.split(' vs ')[0] != Sat_games[i + 1][j].split(' vs ')[1] and game.split(' vs ')[1] != Sat_games[i + 1][j].split(' vs ')[0] and game.split(' vs ')[1] != Sat_games[i + 1][j].split(' vs ')[1] for j in range(len(Sat_games[i + 1]))):\n",
        "        Sat_games[i + 1].append(game)\n",
        "      else:\n",
        "            normal_games.append(game)\n",
        "\n",
        "  #Todas las partidas de nacho se asignan al sabado\n",
        "  for i in range(len(Nacho_games)):\n",
        "    Sun_games[i+1].append(Nacho_games[i])\n",
        "\n",
        "\n",
        "  for i in range(len(Sun_games)):\n",
        "    while len(Sun_games[i+1]) < gamesperround and normal_games:\n",
        "      random.shuffle(normal_games)\n",
        "\n",
        "      game = normal_games.pop()\n",
        "      if all(game.split(' vs ')[0] != Sun_games[i + 1][j].split(' vs ')[0] and game.split(' vs ')[0] != Sun_games[i + 1][j].split(' vs ')[1] and game.split(' vs ')[1] != Sun_games[i + 1][j].split(' vs ')[0] and game.split(' vs ')[1] != Sun_games[i + 1][j].split(' vs ')[1] for j in range(len(Sun_games[i + 1]))):\n",
        "        Sun_games[i + 1].append(game)\n",
        "      else:\n",
        "        normal_games.append(game)\n",
        "  return(Sat_games, Sun_games)\n"
      ],
      "metadata": {
        "id": "FndUDcqvC6Aw"
      },
      "execution_count": null,
      "outputs": []
    },
    {
      "cell_type": "markdown",
      "source": [
        "## Ejecución Formula"
      ],
      "metadata": {
        "id": "IbE4rlGMXFFY"
      }
    },
    {
      "cell_type": "code",
      "source": [
        "GameGenerator2(Dimid,Pakin,3,6)"
      ],
      "metadata": {
        "colab": {
          "base_uri": "https://localhost:8080/"
        },
        "id": "Hn0grmVtXJjl",
        "outputId": "94b9f7ea-c28e-4bac-bfd8-647aa7289396"
      },
      "execution_count": null,
      "outputs": [
        {
          "output_type": "execute_result",
          "data": {
            "text/plain": [
              "({1: ['Cuts vs Paco', 'Enri vs Marcos', 'Claudio vs Pablo'],\n",
              "  2: ['Javas vs Braulio', 'Chobo vs Pablo', 'Claudio vs Juan'],\n",
              "  3: ['Cuts vs Juan', 'Javas vs Manu', 'Enri vs Pablo'],\n",
              "  4: ['Claudio vs Braulio', 'Cuts vs Pablo', 'Javas vs Paco'],\n",
              "  5: ['Claudio vs Manu', 'Cuts vs Marcos', 'Chobo vs Juan'],\n",
              "  6: ['Chobo vs Manu', 'Enri vs Paco', 'Javas vs Marcos']},\n",
              " {1: ['NacNac vs Marcos', 'Enri vs Braulio', 'Javas vs Juan'],\n",
              "  2: ['NacNac vs Paco', 'Enri vs Manu', 'Claudio vs Marcos'],\n",
              "  3: ['NacNac vs Braulio', 'Javas vs Pablo', 'Claudio vs Paco'],\n",
              "  4: ['NacNac vs Manu', 'Chobo vs Paco', 'Cuts vs Braulio'],\n",
              "  5: ['NacNac vs Juan', 'Chobo vs Braulio', 'Cuts vs Manu'],\n",
              "  6: ['NacNac vs Pablo', 'Enri vs Juan', 'Chobo vs Marcos']})"
            ]
          },
          "metadata": {},
          "execution_count": 112
        }
      ]
    },
    {
      "cell_type": "code",
      "source": [],
      "metadata": {
        "id": "Ued6UPUvWuhJ"
      },
      "execution_count": null,
      "outputs": []
    }
  ]
}